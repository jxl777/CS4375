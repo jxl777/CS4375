{
  "nbformat": 4,
  "nbformat_minor": 0,
  "metadata": {
    "colab": {
      "provenance": [],
      "authorship_tag": "ABX9TyOWmNgX5TsEXDlSGgOgGmj0",
      "include_colab_link": true
    },
    "kernelspec": {
      "name": "python3",
      "display_name": "Python 3"
    },
    "language_info": {
      "name": "python"
    }
  },
  "cells": [
    {
      "cell_type": "markdown",
      "metadata": {
        "id": "view-in-github",
        "colab_type": "text"
      },
      "source": [
        "<a href=\"https://colab.research.google.com/github/jxl777/CS4375/blob/main/Linear_Regression_using_Gradient_Descent.ipynb\" target=\"_parent\"><img src=\"https://colab.research.google.com/assets/colab-badge.svg\" alt=\"Open In Colab\"/></a>"
      ]
    },
    {
      "cell_type": "code",
      "source": [
        "import numpy as np\n",
        "import pandas as pd\n",
        "import matplotlib.pyplot as plt\n",
        "from sklearn.model_selection import train_test_split\n",
        "from sklearn.preprocessing import StandardScaler\n",
        "from sklearn.metrics import mean_squared_error, r2_score\n",
        "from sklearn.linear_model import SGDRegressor"
      ],
      "metadata": {
        "id": "aQFZBuHYD1A5"
      },
      "execution_count": 6,
      "outputs": []
    },
    {
      "cell_type": "code",
      "source": [
        "# URL of the dataset uploaded to GitHub\n",
        "url = 'https://raw.githubusercontent.com/jxl777/CS4375/main/Steel_industry_data.csv'\n"
      ],
      "metadata": {
        "id": "hdfrF8IfOs6_"
      },
      "execution_count": 7,
      "outputs": []
    },
    {
      "cell_type": "code",
      "source": [
        "# Load the dataset\n",
        "try:\n",
        "    data = pd.read_csv(url)\n",
        "    print(\"Dataset loaded successfully\")\n",
        "except Exception as e:\n",
        "    print(f\"Error loading dataset: {e}\")"
      ],
      "metadata": {
        "colab": {
          "base_uri": "https://localhost:8080/"
        },
        "id": "6tiJb1MROwtz",
        "outputId": "b40609c0-942a-4997-d2e3-ceed6b520abe"
      },
      "execution_count": 8,
      "outputs": [
        {
          "output_type": "stream",
          "name": "stdout",
          "text": [
            "Dataset loaded successfully\n"
          ]
        }
      ]
    },
    {
      "cell_type": "code",
      "source": [
        "# Display the first few rows of the dataset to inspect column names and data types\n",
        "print(data.head())\n",
        "print(data.columns)\n"
      ],
      "metadata": {
        "colab": {
          "base_uri": "https://localhost:8080/"
        },
        "id": "dGzxBHLPO0vc",
        "outputId": "dcbd94af-131c-4719-9b42-c42fe0cee1eb"
      },
      "execution_count": 11,
      "outputs": [
        {
          "output_type": "stream",
          "name": "stdout",
          "text": [
            "               date  Usage_kWh  Lagging_Current_Reactive.Power_kVarh  \\\n",
            "0  01/01/2018 00:15       3.17                                  2.95   \n",
            "1  01/01/2018 00:30       4.00                                  4.46   \n",
            "2  01/01/2018 00:45       3.24                                  3.28   \n",
            "3  01/01/2018 01:00       3.31                                  3.56   \n",
            "4  01/01/2018 01:15       3.82                                  4.50   \n",
            "\n",
            "   Leading_Current_Reactive_Power_kVarh  CO2(tCO2)  \\\n",
            "0                                   0.0        0.0   \n",
            "1                                   0.0        0.0   \n",
            "2                                   0.0        0.0   \n",
            "3                                   0.0        0.0   \n",
            "4                                   0.0        0.0   \n",
            "\n",
            "   Lagging_Current_Power_Factor  Leading_Current_Power_Factor   NSM  \\\n",
            "0                         73.21                         100.0   900   \n",
            "1                         66.77                         100.0  1800   \n",
            "2                         70.28                         100.0  2700   \n",
            "3                         68.09                         100.0  3600   \n",
            "4                         64.72                         100.0  4500   \n",
            "\n",
            "  WeekStatus Day_of_week   Load_Type  \n",
            "0    Weekday      Monday  Light_Load  \n",
            "1    Weekday      Monday  Light_Load  \n",
            "2    Weekday      Monday  Light_Load  \n",
            "3    Weekday      Monday  Light_Load  \n",
            "4    Weekday      Monday  Light_Load  \n",
            "Index(['date', 'Usage_kWh', 'Lagging_Current_Reactive.Power_kVarh',\n",
            "       'Leading_Current_Reactive_Power_kVarh', 'CO2(tCO2)',\n",
            "       'Lagging_Current_Power_Factor', 'Leading_Current_Power_Factor', 'NSM',\n",
            "       'WeekStatus', 'Day_of_week', 'Load_Type'],\n",
            "      dtype='object')\n"
          ]
        }
      ]
    },
    {
      "cell_type": "code",
      "source": [
        "# Step 1: Remove null or NA values\n",
        "data = data.dropna()\n",
        "print(f\"Dataset shape after removing null values: {data.shape}\")"
      ],
      "metadata": {
        "colab": {
          "base_uri": "https://localhost:8080/"
        },
        "id": "B1OEo6cLO7hY",
        "outputId": "f72ed1a8-04c8-41fb-bedf-41b44af27e12"
      },
      "execution_count": 12,
      "outputs": [
        {
          "output_type": "stream",
          "name": "stdout",
          "text": [
            "Dataset shape after removing null values: (35040, 11)\n"
          ]
        }
      ]
    },
    {
      "cell_type": "code",
      "source": [
        "# Step 2: Remove redundant rows (duplicate rows)\n",
        "data = data.drop_duplicates()\n",
        "print(f\"Dataset shape after removing duplicate rows: {data.shape}\")"
      ],
      "metadata": {
        "colab": {
          "base_uri": "https://localhost:8080/"
        },
        "id": "r5syUGy3O_Cm",
        "outputId": "4d1b787e-bec0-42ed-f5d6-787c1eae8024"
      },
      "execution_count": 13,
      "outputs": [
        {
          "output_type": "stream",
          "name": "stdout",
          "text": [
            "Dataset shape after removing duplicate rows: (35040, 11)\n"
          ]
        }
      ]
    },
    {
      "cell_type": "code",
      "source": [
        "# Step 3: Convert categorical variables to numerical variables if there are any\n",
        "\n",
        "for col in data.select_dtypes(include=['object', 'category']).columns:\n",
        "    data[col] = data[col].astype('category').cat.codes"
      ],
      "metadata": {
        "id": "JaMPoZh2RXTK"
      },
      "execution_count": 14,
      "outputs": []
    },
    {
      "cell_type": "code",
      "source": [
        "# Define the name of the target variable column\n",
        "target_variable = 'Usage_kWh' # Replace 'Usage_kWh' with the actual name of your target variable column\n",
        "\n",
        "# Split the dataset into features and target variable\n",
        "X = data.drop(target_variable, axis=1)\n",
        "y = data[target_variable]"
      ],
      "metadata": {
        "id": "8cm4LwynRd8G"
      },
      "execution_count": 16,
      "outputs": []
    },
    {
      "cell_type": "code",
      "source": [
        "# Step 5: Standardize the features\n",
        "scaler = StandardScaler()\n",
        "X_scaled = scaler.fit_transform(X)"
      ],
      "metadata": {
        "id": "lUeft4i_SJvb"
      },
      "execution_count": 17,
      "outputs": []
    },
    {
      "cell_type": "code",
      "source": [
        "# Add a bias term (column of ones) to the feature matrix\n",
        "X_b = np.c_[np.ones((X_scaled.shape[0], 1)), X_scaled]"
      ],
      "metadata": {
        "id": "QOXFYujvSPsD"
      },
      "execution_count": 18,
      "outputs": []
    },
    {
      "cell_type": "code",
      "source": [
        "# Split the dataset into training and test sets\n",
        "X_train, X_test, y_train, y_test = train_test_split(X_b, y, test_size=0.2, random_state=42)\n"
      ],
      "metadata": {
        "id": "aP6k6hhYSQRO"
      },
      "execution_count": 19,
      "outputs": []
    },
    {
      "cell_type": "code",
      "source": [
        "# Linear regression prediction function\n",
        "def predict(X, theta):\n",
        "    return X.dot(theta)"
      ],
      "metadata": {
        "id": "afX2JOXpST08"
      },
      "execution_count": 20,
      "outputs": []
    },
    {
      "cell_type": "code",
      "source": [
        "# Cost function (Mean Squared Error)\n",
        "def compute_cost(X, y, theta):\n",
        "    m = len(y)\n",
        "    predictions = predict(X, theta)\n",
        "    cost = (1 / (2 * m)) * np.sum((predictions - y) ** 2)\n",
        "    return cost"
      ],
      "metadata": {
        "id": "sVu9pSzJSgvs"
      },
      "execution_count": 21,
      "outputs": []
    },
    {
      "cell_type": "code",
      "source": [
        "# Gradient of the cost function\n",
        "def gradient(X, y, theta):\n",
        "    m = len(y)\n",
        "    return (1 / m) * X.T.dot(predict(X, theta) - y)"
      ],
      "metadata": {
        "id": "DkmNbDdwSjWe"
      },
      "execution_count": 22,
      "outputs": []
    },
    {
      "cell_type": "code",
      "source": [
        "# Generalized gradient descent function\n",
        "def gradient_descent(gradient, X, y, start, learn_rate, n_iter=1000, tolerance=1e-6):\n",
        "    vector = start\n",
        "    cost_history = [compute_cost(X, y, vector)]\n",
        "    for i in range(n_iter):\n",
        "        diff = -learn_rate * gradient(X, y, vector)\n",
        "        if np.all(np.abs(diff) <= tolerance):\n",
        "            break\n",
        "        vector += diff\n",
        "        cost_history.append(compute_cost(X, y, vector))\n",
        "    return vector, cost_history"
      ],
      "metadata": {
        "id": "2IzuNs56SlTT"
      },
      "execution_count": 23,
      "outputs": []
    },
    {
      "cell_type": "code",
      "source": [
        "# Tuning parameters\n",
        "learning_rates = [1e-2, 1e-3, 1e-4]\n",
        "num_iterations = [1000, 5000, 10000]"
      ],
      "metadata": {
        "id": "mGa9DhAZTY-_"
      },
      "execution_count": 30,
      "outputs": []
    },
    {
      "cell_type": "code",
      "source": [
        "# Log file to record parameters and error\n",
        "log_file = \"gradient_descent_log.txt\"\n",
        "\n",
        "with open(log_file, \"w\") as log:\n",
        "    log.write(\"Learning Rate,Num Iterations,Training MSE,Test MSE,Training R2,Test R2\\n\")\n",
        "\n",
        "    for lr in learning_rates:\n",
        "        for iters in num_iterations:\n",
        "            # Initialize parameters\n",
        "            theta_initial = np.random.randn(X_train.shape[1])  # Initialize theta randomly\n",
        "\n",
        "            # Run gradient descent\n",
        "            theta, cost_history = gradient_descent(gradient, X_train, y_train, theta_initial, lr, iters)\n",
        "\n",
        "            # Evaluate the model\n",
        "            mse_train = mean_squared_error(y_train, predict(X_train, theta))\n",
        "            mse_test = mean_squared_error(y_test, predict(X_test, theta))\n",
        "            r2_train = r2_score(y_train, predict(X_train, theta))\n",
        "            r2_test = r2_score(y_test, predict(X_test, theta))\n",
        "\n",
        "            # Log the results\n",
        "            log.write(f\"{lr},{iters},{mse_train},{mse_test},{r2_train},{r2_test}\\n\")\n",
        "            print(f\"Learning Rate: {lr}, Iterations: {iters}, Training MSE: {mse_train}, Test MSE: {mse_test}\")\n"
      ],
      "metadata": {
        "colab": {
          "base_uri": "https://localhost:8080/"
        },
        "id": "X6rwyQ_lTvHI",
        "outputId": "4b820857-4e45-4727-9124-a3bbf5bfbd6d"
      },
      "execution_count": 31,
      "outputs": [
        {
          "output_type": "stream",
          "name": "stdout",
          "text": [
            "Learning Rate: 0.01, Iterations: 1000, Training MSE: 27.499602835868668, Test MSE: 24.95078881598933\n",
            "Learning Rate: 0.01, Iterations: 5000, Training MSE: 22.926652678333912, Test MSE: 18.20075029347893\n",
            "Learning Rate: 0.01, Iterations: 10000, Training MSE: 22.87266567749768, Test MSE: 17.90132435557401\n",
            "Learning Rate: 0.001, Iterations: 1000, Training MSE: 167.65088448401156, Test MSE: 166.21991880843257\n",
            "Learning Rate: 0.001, Iterations: 5000, Training MSE: 32.723367860233814, Test MSE: 31.13414381105375\n",
            "Learning Rate: 0.001, Iterations: 10000, Training MSE: 26.888944299120926, Test MSE: 24.17189158663506\n",
            "Learning Rate: 0.0001, Iterations: 1000, Training MSE: 1254.6451837446682, Test MSE: 1287.0506242613146\n",
            "Learning Rate: 0.0001, Iterations: 5000, Training MSE: 410.277623525153, Test MSE: 414.8505161574738\n",
            "Learning Rate: 0.0001, Iterations: 10000, Training MSE: 162.26699104309495, Test MSE: 161.21365066535918\n"
          ]
        }
      ]
    },
    {
      "cell_type": "code",
      "source": [
        "# Read the log file and identify the best parameters\n",
        "log_data = pd.read_csv(log_file)\n",
        "best_params = log_data.loc[log_data['Test MSE'].idxmin()]\n",
        "best_learning_rate = best_params['Learning Rate']\n",
        "best_num_iterations = best_params['Num Iterations']\n",
        "print(f\"Best parameters - Learning Rate: {best_learning_rate}, Num Iterations: {best_num_iterations}\")\n"
      ],
      "metadata": {
        "colab": {
          "base_uri": "https://localhost:8080/"
        },
        "id": "V_YtVM2mTxZx",
        "outputId": "11a46ac5-94bf-4a3f-d52b-ad839b9ffb32"
      },
      "execution_count": 32,
      "outputs": [
        {
          "output_type": "stream",
          "name": "stdout",
          "text": [
            "Best parameters - Learning Rate: 0.01, Num Iterations: 10000.0\n"
          ]
        }
      ]
    },
    {
      "cell_type": "code",
      "source": [
        "# Re-train the model with the best parameters\n",
        "theta_initial = np.random.randn(X_train.shape[1])  # Initialize theta randomly\n",
        "theta_final, cost_history_final = gradient_descent(gradient, X_train, y_train, theta_initial, best_learning_rate, int(best_num_iterations))\n",
        "\n"
      ],
      "metadata": {
        "id": "BT31NnDdT6GJ"
      },
      "execution_count": 33,
      "outputs": []
    },
    {
      "cell_type": "code",
      "source": [
        "# Evaluate the final model\n",
        "mse_train_final = mean_squared_error(y_train, predict(X_train, theta_final))\n",
        "mse_test_final = mean_squared_error(y_test, predict(X_test, theta_final))\n",
        "r2_train_final = r2_score(y_train, predict(X_train, theta_final))\n",
        "r2_test_final = r2_score(y_test, predict(X_test, theta_final))\n",
        "\n",
        "print(f'Final Training Mean Squared Error: {mse_train_final}')\n",
        "print(f'Final Test Mean Squared Error: {mse_test_final}')\n",
        "print(f'Final Training R2 Score: {r2_train_final}')\n",
        "print(f'Final Test R2 Score: {r2_test_final}')"
      ],
      "metadata": {
        "colab": {
          "base_uri": "https://localhost:8080/"
        },
        "id": "kJ0e2Xk2T8SZ",
        "outputId": "e95c94ce-90e1-4e3e-9d67-75552593ca8e"
      },
      "execution_count": 34,
      "outputs": [
        {
          "output_type": "stream",
          "name": "stdout",
          "text": [
            "Final Training Mean Squared Error: 22.872776383669038\n",
            "Final Test Mean Squared Error: 17.903784375344355\n",
            "Final Training R2 Score: 0.9794657992624864\n",
            "Final Test R2 Score: 0.9842496414647968\n"
          ]
        }
      ]
    },
    {
      "cell_type": "code",
      "source": [
        "# Plot the training cost over iterations for the final model\n",
        "plt.plot(range(len(cost_history_final)), cost_history_final)\n",
        "plt.xlabel('Number of Iterations')\n",
        "plt.ylabel('Cost')\n",
        "plt.title('Cost Function History')\n",
        "plt.show()"
      ],
      "metadata": {
        "colab": {
          "base_uri": "https://localhost:8080/",
          "height": 472
        },
        "id": "V1bQR2ENT-Ho",
        "outputId": "6ba82860-b943-4f10-ddb4-db70e00c5afa"
      },
      "execution_count": 35,
      "outputs": [
        {
          "output_type": "display_data",
          "data": {
            "text/plain": [
              "<Figure size 640x480 with 1 Axes>"
            ],
            "image/png": "[encoded data removed]"
          },
          "metadata": {}
        }
      ]
    },
    {
      "cell_type": "code",
      "source": [
        "# Print the final parameters\n",
        "print(f'Final theta: {theta_final}')"
      ],
      "metadata": {
        "colab": {
          "base_uri": "https://localhost:8080/"
        },
        "id": "GdluEDUAUlgp",
        "outputId": "21953fb6-ff3f-4f8a-8d73-4fb812c1ac31"
      },
      "execution_count": 36,
      "outputs": [
        {
          "output_type": "stream",
          "name": "stdout",
          "text": [
            "Final theta: [27.40790497 -0.32156536  5.39000926  0.55859314 26.51499508  2.42327847\n",
            "  1.96692137 -0.03200853  0.02948203  0.11683915  0.71977215]\n"
          ]
        }
      ]
    },
    {
      "cell_type": "code",
      "source": [
        "print(\"I am satisfied that I found the best answer, since the both trainning and test R2 are close to 1 and test R2 is higher than trainning R2 and training MSE is higher than test MSE\")"
      ],
      "metadata": {
        "colab": {
          "base_uri": "https://localhost:8080/"
        },
        "id": "ftbi_yHfUnpJ",
        "outputId": "c3dad242-ad1b-400c-923c-fb21abe43b99"
      },
      "execution_count": 37,
      "outputs": [
        {
          "output_type": "stream",
          "name": "stdout",
          "text": [
            "I am satisfied that I found the best answer, since the both trainning and test R2 are close to 1 and test R2 is higher than trainning R2 and training MSE is higher than test MSE\n"
          ]
        }
      ]
    }
  ]
}